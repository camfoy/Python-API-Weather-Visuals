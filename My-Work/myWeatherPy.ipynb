{
 "cells": [
  {
   "cell_type": "markdown",
   "metadata": {},
   "source": [
    "# WeatherPy\n",
    "----\n",
    "\n",
    "### Analysis\n",
    "* As expected, Temperature tends to be at its highest when a city is on the equator.\n",
    "\n",
    "\n",
    "* While it seems that Humidity isn't affected much by latitude, it is shown that there are fewere cities with lower humidity when a city is on the equator.\n",
    "\n",
    "\n",
    "* Wind Speed peaks lower the closer a city is to the equator, which is not to say that Wind Speed cannot be higher at the equator than somewhere else, only that it is less likely to happen that way.\n",
    "\n",
    "---\n",
    "\n",
    "#### Note\n",
    "* Instructions have been included for each segment. You do not have to follow them exactly, but they are included to help you think through the steps."
   ]
  },
  {
   "cell_type": "code",
   "execution_count": null,
   "metadata": {},
   "outputs": [],
   "source": [
    "!pip install citipy"
   ]
  },
  {
   "cell_type": "code",
   "execution_count": null,
   "metadata": {
    "scrolled": true
   },
   "outputs": [],
   "source": [
    "# Dependencies and Setup\n",
    "import matplotlib.pyplot as plt\n",
    "import pandas as pd\n",
    "import numpy as np\n",
    "import requests\n",
    "import time\n",
    "import openweathermapy.core as owm\n",
    "\n",
    "# Import API key\n",
    "from api_keys import api_key\n",
    "\n",
    "# Incorporated citipy to determine city based on latitude and longitude\n",
    "from citipy import citipy\n",
    "\n",
    "# Output File (CSV)\n",
    "output_data_file = \"output_data/cities.csv\"\n",
    "\n",
    "# Range of latitudes and longitudes\n",
    "lat_range = (-90, 90)\n",
    "lng_range = (-180, 180)"
   ]
  },
  {
   "cell_type": "markdown",
   "metadata": {},
   "source": [
    "## Generate Cities List"
   ]
  },
  {
   "cell_type": "code",
   "execution_count": null,
   "metadata": {},
   "outputs": [],
   "source": [
    "# List for holding lat_lngs and cities\n",
    "lat_lngs = []\n",
    "cities = []\n",
    "\n",
    "# Create a set of random lat and lng combinations\n",
    "lats = np.random.uniform(low=-90.000, high=90.000, size=1500)\n",
    "lngs = np.random.uniform(low=-180.000, high=180.000, size=1500)\n",
    "lat_lngs = zip(lats, lngs)\n",
    "\n",
    "# Identify nearest city for each lat, lng combination\n",
    "for lat_lng in lat_lngs:\n",
    "    city = citipy.nearest_city(lat_lng[0], lat_lng[1]).city_name\n",
    "    \n",
    "    # If the city is unique, then add it to our cities list\n",
    "    if city not in cities:\n",
    "        cities.append(city)\n",
    "\n",
    "# Print the city count to confirm sufficient count\n",
    "len(cities)"
   ]
  },
  {
   "cell_type": "code",
   "execution_count": null,
   "metadata": {
    "scrolled": true
   },
   "outputs": [],
   "source": [
    "cities_df = pd.DataFrame({'City': cities})\n",
    "cities_df['Latitude'] = ''\n",
    "cities_df['Temperature (F)'] = ''\n",
    "cities_df['Humidity (%)']= ''\n",
    "cities_df['Cloudiness (%)'] = ''\n",
    "cities_df['Wind Speed (mph)'] = ''\n",
    "cities_df.head()"
   ]
  },
  {
   "cell_type": "markdown",
   "metadata": {},
   "source": [
    "### Perform API Calls\n",
    "* Perform a weather check on each city using a series of successive API calls.\n",
    "* Include a print log of each city as it'sbeing processed (with the city number and city name).\n"
   ]
  },
  {
   "cell_type": "code",
   "execution_count": null,
   "metadata": {},
   "outputs": [],
   "source": [
    "url = \"http://api.openweathermap.org/data/2.5/weather?\"\n",
    "settings = {\"units\": \"imperial\", \"appid\": api_key}\n",
    "\n",
    "city_list = []\n",
    "\n",
    "for index, row in cities_df.iterrows():\n",
    "    try:\n",
    "        weather = owm.get_current(row['City'], **settings)\n",
    "        cities_df.set_value(index, 'Latitude', weather['coord']['lat'])\n",
    "        cities_df.set_value(index, 'Temperature (F)', weather['main']['temp'])\n",
    "        cities_df.set_value(index, 'Humidity (%)', weather['main']['humidity'] )\n",
    "        cities_df.set_value(index, 'Cloudiness (%)', weather['clouds']['all'])\n",
    "        cities_df.set_value(index, 'Wind Speed (mph)',  weather['wind']['speed'])\n",
    "        city_list.append(row['City'])\n",
    "        print(row['City'] + ' ' + '(id = ' + str(weather['id']) + ')' + ': data pulled successfully')\n",
    "    except:\n",
    "         print(row['City'] + ' ' + '(id = ' + str(weather['id']) + ')' + ': unable to retrieve data')"
   ]
  },
  {
   "cell_type": "markdown",
   "metadata": {},
   "source": [
    "### Convert Raw Data to DataFrame\n",
    "* Export the city data into a .csv.\n",
    "* Display the DataFrame"
   ]
  },
  {
   "cell_type": "code",
   "execution_count": null,
   "metadata": {},
   "outputs": [],
   "source": [
    "cities_df = cities_df[cities_df['City'].isin(city_list)]\n",
    "cities_df.to_csv(output_data_file) \n",
    "cities_df.head()"
   ]
  },
  {
   "cell_type": "markdown",
   "metadata": {},
   "source": [
    "### Plotting the Data\n",
    "* Use proper labeling of the plots using plot titles (including date of analysis) and axes labels.\n",
    "* Save the plotted figures as .pngs."
   ]
  },
  {
   "cell_type": "markdown",
   "metadata": {},
   "source": [
    "#### Latitude vs. Temperature Plot"
   ]
  },
  {
   "cell_type": "code",
   "execution_count": null,
   "metadata": {},
   "outputs": [],
   "source": [
    "fig, ax1 = plt.subplots()\n",
    "\n",
    "ax1.scatter(cities_df['Latitude'], cities_df['Temperature (F)'])\n",
    "ax1.set_title('City Latitude vs. Current Temperature')\n",
    "ax1.set_xlabel('Latitude')\n",
    "ax1.set_ylabel('Temperature (F)')\n",
    "ax1.grid()\n",
    "\n",
    "fig.savefig('output_data/lat_temp.png')\n",
    "\n",
    "plt.show()"
   ]
  },
  {
   "cell_type": "markdown",
   "metadata": {},
   "source": [
    "#### Latitude vs. Humidity Plot"
   ]
  },
  {
   "cell_type": "code",
   "execution_count": null,
   "metadata": {},
   "outputs": [],
   "source": [
    "fig, ax2 = plt.subplots()\n",
    "\n",
    "ax2.scatter(cities_df['Latitude'], cities_df['Humidity (%)'])\n",
    "ax2.set_title('City Latitude vs. Current Humidity')\n",
    "ax2.set_xlabel('Latitude')\n",
    "ax2.set_ylabel('Humidity (%)')\n",
    "ax2.grid()\n",
    "\n",
    "fig.savefig('output_data/lat_humid.png')\n",
    "\n",
    "plt.show()"
   ]
  },
  {
   "cell_type": "markdown",
   "metadata": {},
   "source": [
    "#### Latitude vs. Cloudiness Plot"
   ]
  },
  {
   "cell_type": "code",
   "execution_count": null,
   "metadata": {},
   "outputs": [],
   "source": [
    "fig, ax3 = plt.subplots()\n",
    "\n",
    "ax3.scatter(cities_df['Latitude'], cities_df['Cloudiness (%)'])\n",
    "ax3.set_title('City Latitude vs. Current Cloudiness')\n",
    "ax3.set_xlabel('Latitude')\n",
    "ax3.set_ylabel('Cloudiness (%)')\n",
    "ax3.grid()\n",
    "\n",
    "fig.savefig('output_data/lat_cloud.png')\n",
    "\n",
    "plt.show()"
   ]
  },
  {
   "cell_type": "markdown",
   "metadata": {},
   "source": [
    "#### Latitude vs. Wind Speed Plot"
   ]
  },
  {
   "cell_type": "code",
   "execution_count": null,
   "metadata": {},
   "outputs": [],
   "source": [
    "fig, ax4 = plt.subplots()\n",
    "\n",
    "ax4.scatter(cities_df['Latitude'], cities_df['Wind Speed (mph)'])\n",
    "ax4.set_title('City Latitude vs. Current Wind Speed')\n",
    "ax4.set_xlabel('Latitude')\n",
    "ax4.set_ylabel('Wind Speed (mph)')\n",
    "ax4.grid()\n",
    "\n",
    "fig.savefig('output_data/lat_wind.png')\n",
    "\n",
    "plt.show()"
   ]
  },
  {
   "cell_type": "code",
   "execution_count": null,
   "metadata": {},
   "outputs": [],
   "source": []
  }
 ],
 "metadata": {
  "anaconda-cloud": {},
  "kernelspec": {
   "display_name": "Python 3",
   "language": "python",
   "name": "python3"
  },
  "language_info": {
   "codemirror_mode": {
    "name": "ipython",
    "version": 3
   },
   "file_extension": ".py",
   "mimetype": "text/x-python",
   "name": "python",
   "nbconvert_exporter": "python",
   "pygments_lexer": "ipython3",
   "version": "3.7.1"
  }
 },
 "nbformat": 4,
 "nbformat_minor": 2
}
